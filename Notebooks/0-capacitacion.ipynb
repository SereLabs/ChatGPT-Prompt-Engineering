{
 "cells": [
  {
   "cell_type": "markdown",
   "metadata": {},
   "source": [
    "# Resumen de curso de ChatGPT Prompt Eng\n",
    "Esto es un resumen de los ejemplos expuestos en el curso de ChatGPT Prompt Eng.\n",
    "## Índice\n",
    "1. [Principios de prompting y buenas prácticas](#principios-de-prompting)\n",
    "2. [Ejemplos: Uso iterativo, resumen, inferencia, tranformación, expansión](#Examples)\n",
    "3. [ChatBot](#ChatBot)"
   ]
  },
  {
   "cell_type": "code",
   "execution_count": 4,
   "metadata": {},
   "outputs": [],
   "source": [
    "import openai\n",
    "import os\n",
    "\n",
    "from dotenv import load_dotenv, find_dotenv\n",
    "_ = load_dotenv(find_dotenv())\n",
    "\n",
    "openai.api_key  = os.getenv('OPENAI_API_KEY')"
   ]
  },
  {
   "cell_type": "markdown",
   "metadata": {},
   "source": [
    "#### Función get_completion\n",
    "Usaremos el `gpt-3.5-turbo` model y el [chat completions endpoint](https://platform.openai.com/docs/guides/chat). Una api que nos permite hacer preguntas y obtener respuestas.\n",
    "\n",
    "Esta función va a ayudar a hacer prompts y mirar las salidas"
   ]
  },
  {
   "cell_type": "code",
   "execution_count": 5,
   "metadata": {},
   "outputs": [],
   "source": [
    "def get_completion(prompt, model=\"gpt-3.5-turbo\"):\n",
    "    messages = [{\"role\": \"user\", \"content\": prompt}]\n",
    "    response = openai.ChatCompletion.create(\n",
    "        model=model,\n",
    "        messages=messages,\n",
    "        temperature=0, # this is the degree of randomness of the model's output\n",
    "    )\n",
    "    return response.choices[0].message[\"content\"]"
   ]
  },
  {
   "cell_type": "markdown",
   "metadata": {},
   "source": [
    "## Principios de prompting\n",
    "- **Principio 1: Instrucciones claras y específicas**\n",
    "- **Principle 2: Hay que darle al modelo tiempo para pensar**"
   ]
  },
  {
   "cell_type": "markdown",
   "metadata": {},
   "source": [
    "### Tácticas\n",
    "\n",
    "#### Táctica 1: Utilizar delimitadores para indicar claramente partes distintas de la entrada\n",
    "- Los delimitadores pueden ser cualquier cosa como:  ```, \"\"\", < >, `<tag> </tag>`, `:`"
   ]
  },
  {
   "cell_type": "code",
   "execution_count": 6,
   "metadata": {},
   "outputs": [
    {
     "name": "stdout",
     "output_type": "stream",
     "text": [
      "Debes proporcionar instrucciones claras y específicas para guiar al modelo hacia la salida deseada y evitar respuestas irrelevantes o incorrectas, aunque las indicaciones más largas pueden proporcionar más claridad y contexto para obtener salidas más detalladas y relevantes.\n"
     ]
    }
   ],
   "source": [
    "texto = f\"\"\"\n",
    "Debes expresar lo que deseas que un modelo haga \\ \n",
    "proporcionando instrucciones que sean lo más claras y \\ \n",
    "específicas posible. \\ \n",
    "Esto guiará al modelo hacia la salida deseada, \\ \n",
    "y reducirá las posibilidades de recibir respuestas irrelevantes \\ \n",
    "o incorrectas. No confundas escribir una \\ \n",
    "indicación clara con escribir una indicación corta. \\ \n",
    "En muchos casos, las indicaciones más largas proporcionan más claridad \\ \n",
    "y contexto al modelo, lo que puede llevar a \\ \n",
    "salidas más detalladas y relevantes.\n",
    "\"\"\"\n",
    "\n",
    "prompt = f\"\"\"\n",
    "Resume el texto delimitado por triples comillas \\ \n",
    "en una sola oración.\n",
    "```{texto}```\n",
    "\"\"\"\n",
    "respuesta = get_completion(prompt)\n",
    "print(respuesta)\n"
   ]
  },
  {
   "cell_type": "markdown",
   "metadata": {},
   "source": [
    "#### Táctica 2: Solicitar una respuesta estructurada\n",
    "- JSON, HTML"
   ]
  },
  {
   "cell_type": "code",
   "execution_count": 7,
   "metadata": {},
   "outputs": [
    {
     "name": "stdout",
     "output_type": "stream",
     "text": [
      "{\n",
      "  \"book_id\": 1,\n",
      "  \"título\": \"El misterio del faro\",\n",
      "  \"autor\": \"Laura García\",\n",
      "  \"género\": \"Misterio\"\n",
      "},\n",
      "{\n",
      "  \"book_id\": 2,\n",
      "  \"título\": \"El secreto de la montaña\",\n",
      "  \"autor\": \"Carlos Martínez\",\n",
      "  \"género\": \"Aventura\"\n",
      "},\n",
      "{\n",
      "  \"book_id\": 3,\n",
      "  \"título\": \"La magia de los sueños\",\n",
      "  \"autor\": \"María López\",\n",
      "  \"género\": \"Fantasía\"\n",
      "}\n"
     ]
    }
   ],
   "source": [
    "prompt = f\"\"\"\n",
    "Genera una lista de tres títulos ficticios de libros, \\ \n",
    "junto con sus autores y géneros. \n",
    "Proporciónalos en formato JSON con las siguientes claves: \n",
    "book_id, título, autor, género.\n",
    "\"\"\"\n",
    "respuesta = get_completion(prompt)\n",
    "print(respuesta)"
   ]
  },
  {
   "cell_type": "markdown",
   "metadata": {},
   "source": [
    "#### Táctica 3: Solicitarle al modelo que verifique que se satisfagan condiciones"
   ]
  },
  {
   "cell_type": "code",
   "execution_count": 10,
   "metadata": {},
   "outputs": [
    {
     "name": "stdout",
     "output_type": "stream",
     "text": [
      "Completado para Texto 1:\n",
      "Paso 1 - Poner a hervir un poco de agua.\n",
      "Paso 2 - Tomar una taza y colocar una bolsita de té en ella.\n",
      "Paso 3 - Verter el agua caliente sobre la bolsita de té.\n",
      "Paso 4 - Dejar que el té repose para que se infusione.\n",
      "Paso 5 - Sacar la bolsita de té.\n",
      "Paso 6 - Opcionalmente, añadir azúcar o leche al gusto.\n",
      "Paso 7 - Disfrutar de una deliciosa taza de té.\n",
      "\n",
      " Completado para Texto 2:\n",
      "No se proporcionaron pasos.\n"
     ]
    }
   ],
   "source": [
    "texto_1 = f\"\"\"\n",
    "¡Preparar una taza de té es fácil! En primer lugar, necesitas \\ \n",
    "poner a hervir un poco de agua. Mientras eso sucede, \\ \n",
    "toma una taza y coloca una bolsita de té en ella. Una vez que el agua esté \\ \n",
    "suficientemente caliente, simplemente viértela sobre la bolsita de té. \\ \n",
    "Deja que repose un poco para que el té pueda infusionarse. Después de unos \\ \n",
    "minutos, saca la bolsita de té. Si lo deseas, puedes añadir azúcar o leche al gusto. \\ \n",
    "¡Y eso es todo! Tienes una deliciosa \\ \n",
    "taza de té para disfrutar.\n",
    "\"\"\"\n",
    "\n",
    "texto_2 = f\"\"\"\n",
    "El sol brilla intensamente hoy, y los pájaros están \\\n",
    "cantando. Es un hermoso día para dar un \\ \n",
    "paseo por el parque. Las flores están floreciendo, y los \\ \n",
    "árboles se mecen suavemente con la brisa. La gente \\ \n",
    "está afuera, disfrutando del hermoso clima. \\ \n",
    "Algunos están teniendo picnics, mientras que otros están jugando \\ \n",
    "juegos o simplemente relajándose en el césped. Es un \\ \n",
    "día perfecto para pasar tiempo al aire libre y apreciar la \\ \n",
    "belleza de la naturaleza.\n",
    "\"\"\"\n",
    "\n",
    "prompt = f\"\"\"\n",
    "Se te proporcionará un texto delimitado por triples comillas. \n",
    "Si contiene una secuencia de instrucciones, \\ \n",
    "reescríbelas en el siguiente formato:\n",
    "\n",
    "Paso 1 - ...\n",
    "Paso 2 - …\n",
    "…\n",
    "Paso N - …\n",
    "\n",
    "Si el texto no contiene una secuencia de instrucciones, \\ \n",
    "simplemente escribe \"No se proporcionaron pasos\".\n",
    "\n",
    "\\\"\\\"\\\"{texto_1}\\\"\\\"\\\"\n",
    "\"\"\"\n",
    "\n",
    "print(\"Completado para Texto 1:\")\n",
    "print(get_completion(prompt))\n",
    "\n",
    "print(\"\\nCompletado para Texto 2:\")\n",
    "print(get_completion(prompt.replace(texto_1, texto_2)))\n"
   ]
  },
  {
   "cell_type": "markdown",
   "metadata": {},
   "source": [
    "#### Táctica 4: \"Few-shot\" prompting (pocas muestras)"
   ]
  },
  {
   "cell_type": "code",
   "execution_count": 11,
   "metadata": {},
   "outputs": [
    {
     "name": "stdout",
     "output_type": "stream",
     "text": [
      "<abuelo>: La resiliencia es como un árbol que se dobla con el viento, pero nunca se quiebra. Es la capacidad de enfrentar los desafíos y superar las adversidades. Al igual que el árbol, podemos aprender a adaptarnos y encontrar fuerza en medio de las dificultades. La resiliencia nos enseña a levantarnos una y otra vez, incluso cuando pareciera que todo está en contra nuestra. Es una cualidad valiosa que nos permite crecer y transformarnos en personas más fuertes y sabias.\n"
     ]
    }
   ],
   "source": [
    "prompt = f\"\"\"\n",
    "Tu tarea es responder de manera coherente.\n",
    "\n",
    "<niño>: Enséñame sobre la paciencia.\n",
    "\n",
    "<abuelo>: El río que talla el valle más profundo fluye desde un manantial modesto; \\ \n",
    "la sinfonía más grandiosa tiene su origen en una sola nota; \\ \n",
    "el tapiz más intrincado comienza con un solo hilo.\n",
    "\n",
    "<niño>: Enséñame sobre la resiliencia.\n",
    "\"\"\"\n",
    "print(get_completion(prompt))\n"
   ]
  }
 ],
 "metadata": {
  "kernelspec": {
   "display_name": "Python 3",
   "language": "python",
   "name": "python3"
  },
  "language_info": {
   "codemirror_mode": {
    "name": "ipython",
    "version": 3
   },
   "file_extension": ".py",
   "mimetype": "text/x-python",
   "name": "python",
   "nbconvert_exporter": "python",
   "pygments_lexer": "ipython3",
   "version": "3.10.12"
  },
  "orig_nbformat": 4
 },
 "nbformat": 4,
 "nbformat_minor": 2
}
