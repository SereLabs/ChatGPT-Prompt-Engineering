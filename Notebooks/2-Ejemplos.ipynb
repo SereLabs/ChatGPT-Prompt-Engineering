{
 "cells": [
  {
   "cell_type": "markdown",
   "metadata": {},
   "source": [
    "# Ejemplos: Uso iterativo, resumir, inferir, tranformación, expansión"
   ]
  },
  {
   "cell_type": "markdown",
   "metadata": {},
   "source": [
    "Se muestran casos de uso para cada ejemplo."
   ]
  },
  {
   "cell_type": "markdown",
   "metadata": {},
   "source": [
    "## Setup"
   ]
  },
  {
   "cell_type": "code",
   "execution_count": 2,
   "metadata": {},
   "outputs": [],
   "source": [
    "import openai\n",
    "import os\n",
    "\n",
    "from dotenv import load_dotenv, find_dotenv\n",
    "_ = load_dotenv(find_dotenv()) # read local .env file\n",
    "\n",
    "openai.api_key  = os.getenv('OPENAI_API_KEY')\n",
   ]
  },
  {
   "cell_type": "code",
   "execution_count": 26,
   "metadata": {},
   "outputs": [],
   "source": [
    "def get_completion(prompt, model=\"gpt-3.5-turbo\", temperature=0):\n",
    "    messages = [{\"role\": \"user\", \"content\": prompt}]\n",
    "    response = openai.ChatCompletion.create(\n",
    "        model=model,\n",
    "        messages=messages,\n",
    "        temperature=temperature, # this is the degree of randomness of the model's output\n",
    "    )\n",
    "    return response.choices[0].message[\"content\"]"
   ]
  },
  {
   "cell_type": "markdown",
   "metadata": {},
   "source": [
    "## Uso iterativo"
   ]
  },
  {
   "cell_type": "markdown",
   "metadata": {},
   "source": [
    "Analizaremos y perfeccionaremos de forma iterativa preguntas para generar contenido de marketing a partir de una ficha técnica de producto."
   ]
  },
  {
   "cell_type": "markdown",
   "metadata": {},
   "source": [
    "### Generar una descripción de marketing de producto a partir de una ficha técnica del producto"
   ]
  },
  {
   "cell_type": "code",
   "execution_count": 4,
   "metadata": {},
   "outputs": [],
   "source": [
    "hoja_datos_silla = \"\"\"\n",
    "DESCRIPCION DEL PRODUCTO\n",
    "- Parte de una hermosa familia de muebles de oficina inspirados en mediados del siglo XX, que incluye archivadores, escritorios, estanterías, mesas de reuniones, y más.\n",
    "- Varias opciones de color de carcasa y acabados de base.\n",
    "- Disponible con tapizado de plástico en la parte trasera y delantera (SWC-100) o tapizado completo (SWC-110) en 10 opciones de tela y 6 opciones de cuero.\n",
    "- Opciones de acabado de base: acero inoxidable, negro mate, blanco brillante, o cromo.\n",
    "- La silla está disponible con o sin reposabrazos.\n",
    "- Adecuada para entornos de hogar o negocio.\n",
    "- Calificada para uso contractual.\n",
    "\n",
    "CONSTRUCCIÓN\n",
    "- Base de aluminio con recubrimiento de plástico de 5 ruedas.\n",
    "- Ajuste neumático de la silla para facilitar la acción de subir/bajar.\n",
    "\n",
    "DIMENSIONES\n",
    "- ANCHO 53 CM | 20,87”\n",
    "- PROFUNDIDAD 51 CM | 20,08”\n",
    "- ALTURA 80 CM | 31,50”\n",
    "- ALTURA DEL ASIENTO 44 CM | 17,32”\n",
    "- PROFUNDIDAD DEL ASIENTO 41 CM | 16,14”\n",
    "\n",
    "OPCIONES\n",
    "- Opciones de ruedas para suelos blandos o duros.\n",
    "- Dos opciones de densidad de espuma del asiento: media (1,8 lb/ft3) o alta (2,8 lb/ft3).\n",
    "- Reposabrazos sin brazos o con 8 posiciones de PU.\n",
    "\n",
    "MATERIALES\n",
    "CARCASA BASE PLATAFORMA\n",
    "- Aluminio fundido con revestimiento de nailon PA6/PA66 modificado.\n",
    "- Grosor de la carcasa: 10 mm.\n",
    "ASIENTO\n",
    "- Espuma HD36.\n",
    "\n",
    "PAIS DE ORIGEN\n",
    "- Italia.\n",
    "\"\"\""
   ]
  },
  {
   "cell_type": "code",
   "execution_count": 5,
   "metadata": {},
   "outputs": [
    {
     "name": "stdout",
     "output_type": "stream",
     "text": [
      "¡Bienvenido a nuestro sitio web de ventas de muebles de oficina! Te presentamos nuestra silla inspirada en mediados del siglo XX, parte de una hermosa familia de muebles que incluye archivadores, escritorios, estanterías, mesas de reuniones y más. \n",
      "\n",
      "Nuestra silla ofrece varias opciones de color de carcasa y acabados de base para que puedas personalizarla según tus preferencias. Puedes elegir entre tapizado de plástico en la parte trasera y delantera o tapizado completo en una amplia gama de opciones de tela y cuero.\n",
      "\n",
      "La base de nuestra silla está disponible en diferentes acabados, como acero inoxidable, negro mate, blanco brillante o cromo. Además, puedes optar por tener reposabrazos o prescindir de ellos, según tus necesidades.\n",
      "\n",
      "Nuestra silla es adecuada tanto para entornos de hogar como de negocio, y está calificada para uso contractual, lo que garantiza su durabilidad y resistencia.\n",
      "\n",
      "En cuanto a la construcción, la base de aluminio de nuestra silla cuenta con un recubrimiento de plástico y está equipada con 5 ruedas para facilitar su movilidad. Además, cuenta con un ajuste neumático que permite subir y bajar la silla de manera sencilla.\n",
      "\n",
      "Las dimensiones de nuestra silla son las siguientes: tiene un ancho de 53 cm, una profundidad de 51 cm y una altura de 80 cm. La altura del asiento es de 44 cm y la profundidad del asiento es de 41 cm.\n",
      "\n",
      "Ofrecemos varias opciones adicionales para personalizar tu silla. Puedes elegir entre ruedas para suelos blandos o duros, y también puedes optar por dos opciones de densidad de espuma del asiento: media o alta. Además, ofrecemos reposabrazos con 8 posiciones de PU.\n",
      "\n",
      "Nuestra silla está fabricada con materiales de alta calidad. La carcasa de la base está hecha de aluminio fundido con un revestimiento de nailon PA6/PA66 modificado, con un grosor de 10 mm. El asiento está fabricado con espuma HD36.\n",
      "\n",
      "Por último, nos enorgullece decir que nuestra silla es de origen italiano, lo que garantiza su diseño y calidad excepcionales.\n",
      "\n",
      "No esperes más y adquiere nuestra silla de inspiración retro para agregar estilo y comodidad a tu espacio de trabajo. ¡Haz tu pedido ahora!\n"
     ]
    }
   ],
   "source": [
    "prompt = f\"\"\"\n",
    "Tu tarea es ayudar a un equipo de marketing a crear una\n",
    "descripción para un sitio web de ventas de un producto\n",
    "basado en una ficha técnica.\n",
    "\n",
    "Escribe una descripción del producto basada en la información\n",
    "proporcionada en las especificaciones técnicas delimitadas por\n",
    "triple acento invertido.\n",
    "\n",
    "Especificaciones técnicas: ```{hoja_datos_silla}```\n",
    "\"\"\"\n",
    "respuesta = get_completion(prompt)\n",
    "print(respuesta)\n"
   ]
  },
  {
   "cell_type": "markdown",
   "metadata": {},
   "source": [
    "#### Problema 1: El texto es muy largo\n",
    "- Limitar el número de palabras/oraciones/caracteres."
   ]
  },
  {
   "cell_type": "code",
   "execution_count": null,
   "metadata": {},
   "outputs": [],
   "source": [
    "prompt = f\"\"\"\n",
    "Tu tarea es ayudar a un equipo de marketing a crear una descripción para un sitio web de ventas minoristas de un producto basado en una ficha técnica.\n",
    "\n",
    "Escribe una descripción del producto basada en la información proporcionada en las especificaciones técnicas delimitadas por triple acento invertido.\n",
    "\n",
    "Utiliza un máximo de 50 palabras.\n",
    "\n",
    "Especificaciones técnicas: ```{hoja_datos_silla}```\n",
    "\"\"\"\n",
    "respuesta = get_completion(prompt)\n",
    "print(respuesta)"
   ]
  },
  {
   "cell_type": "code",
   "execution_count": null,
   "metadata": {},
   "outputs": [],
   "source": [
    "print(len(respuesta))"
   ]
  },
  {
   "cell_type": "markdown",
   "metadata": {},
   "source": [
    "#### Problema 2. El texto se enfoca en los detalles equivocados\n",
    "- Pedir que se enfoque en los aspectos que son relevantes para la audiencia correspondiente."
   ]
  },
  {
   "cell_type": "code",
   "execution_count": 6,
   "metadata": {},
   "outputs": [
    {
     "name": "stdout",
     "output_type": "stream",
     "text": [
      "La silla de oficina SWC-100 es parte de una hermosa familia de muebles de mediados del siglo XX. Con varias opciones de color de carcasa y acabados de base, esta silla está disponible con tapizado de plástico en la parte trasera y delantera o tapizado completo en tela o cuero. La base de aluminio con recubrimiento de plástico de 5 ruedas y el ajuste neumático de la silla hacen que sea fácil de usar. Con dimensiones de 53 cm de ancho, 51 cm de profundidad y 80 cm de altura, esta silla es adecuada para entornos de hogar o negocio. Fabricada en Italia con materiales de alta calidad, la silla SWC-100 es una opción confiable y duradera para cualquier minorista de muebles.\n"
     ]
    }
   ],
   "source": [
    "prompt = f\"\"\"\n",
    "Tu tarea es ayudar a un equipo de marketing a crear una descripción para un sitio web de ventas minoristas de un producto basado en una ficha técnica.\n",
    "\n",
    "Escribe una descripción de producto basada en la información proporcionada en las especificaciones técnicas delimitadas por triple acento invertido.\n",
    "\n",
    "La descripción está destinada a minoristas de muebles, por lo que debe ser de naturaleza técnica y centrarse en los materiales con los que está construido el producto.\n",
    "\n",
    "Utiliza un máximo de 50 palabras.\n",
    "\n",
    "Especificaciones técnicas: ```{hoja_datos_silla}```\n",
    "\"\"\"\n",
    "respuesta = get_completion(prompt)\n",
    "print(respuesta)"
   ]
  },
  {
   "cell_type": "markdown",
   "metadata": {},
   "source": [
    "#### Problema 3. La descripción necesita una tabla de dimensiones\n",
    "- Pedir que extraiga informacion y la organice en una tabla."
   ]
  },
  {
   "cell_type": "code",
   "execution_count": 7,
   "metadata": {},
   "outputs": [
    {
     "name": "stdout",
     "output_type": "stream",
     "text": [
      "<div>\n",
      "  <h2>Descripción del Producto</h2>\n",
      "  <p>\n",
      "    Parte de una hermosa familia de muebles de oficina inspirados en mediados del siglo XX, que incluye archivadores, escritorios, estanterías, mesas de reuniones, y más. Varias opciones de color de carcasa y acabados de base. Disponible con tapizado de plástico en la parte trasera y delantera (SWC-100) o tapizado completo (SWC-110) en 10 opciones de tela y 6 opciones de cuero. Opciones de acabado de base: acero inoxidable, negro mate, blanco brillante, o cromo. La silla está disponible con o sin reposabrazos. Adecuada para entornos de hogar o negocio. Calificada para uso contractual.\n",
      "  </p>\n",
      "  <h2>Dimensiones del Producto</h2>\n",
      "  <table>\n",
      "    <tr>\n",
      "      <th>Dimensión</th>\n",
      "      <th>Medida (pulgadas)</th>\n",
      "    </tr>\n",
      "    <tr>\n",
      "      <td>Ancho</td>\n",
      "      <td>20,87\"</td>\n",
      "    </tr>\n",
      "    <tr>\n",
      "      <td>Profundidad</td>\n",
      "      <td>20,08\"</td>\n",
      "    </tr>\n",
      "    <tr>\n",
      "      <td>Altura</td>\n",
      "      <td>31,50\"</td>\n",
      "    </tr>\n",
      "    <tr>\n",
      "      <td>Altura del Asiento</td>\n",
      "      <td>17,32\"</td>\n",
      "    </tr>\n",
      "    <tr>\n",
      "      <td>Profundidad del Asiento</td>\n",
      "      <td>16,14\"</td>\n",
      "    </tr>\n",
      "  </table>\n",
      "  <h2>Opciones</h2>\n",
      "  <ul>\n",
      "    <li>Opciones de ruedas para suelos blandos o duros.</li>\n",
      "    <li>Dos opciones de densidad de espuma del asiento: media (1,8 lb/ft3) o alta (2,8 lb/ft3).</li>\n",
      "    <li>Reposabrazos sin brazos o con 8 posiciones de PU.</li>\n",
      "  </ul>\n",
      "  <h2>Materiales</h2>\n",
      "  <ul>\n",
      "    <li>Carcasa Base Plataforma: Aluminio fundido con revestimiento de nailon PA6/PA66 modificado. Grosor de la carcasa: 10 mm.</li>\n",
      "    <li>Asiento: Espuma HD36.</li>\n",
      "  </ul>\n",
      "  <h2>País de Origen</h2>\n",
      "  <p>Italia.</p>\n",
      "</div>\n"
     ]
    }
   ],
   "source": [
    "prompt = f\"\"\"\n",
    "Tu tarea es ayudar a un equipo de marketing a crear una \n",
    "descripción para un sitio web de venta al por menor de un producto \n",
    "basado en una hoja de datos técnicos.\n",
    "\n",
    "Escribe una descripción del producto basada en la información \n",
    "proporcionada en las especificaciones técnicas delimitadas por \n",
    "triple acento grave.\n",
    "\n",
    "La descripción está destinada a minoristas de muebles, \n",
    "por lo que debe ser técnica y centrarse en los materiales \n",
    "de los que está construido el producto.\n",
    "\n",
    "Al final de la descripción, incluye cada ID de producto de \n",
    "7 caracteres que se encuentra en la especificación técnica.\n",
    "\n",
    "Después de la descripción, incluye una tabla que muestre \n",
    "las dimensiones del producto. La tabla debe tener dos columnas. \n",
    "En la primera columna, incluye el nombre de la dimensión. \n",
    "En la segunda columna, incluye las medidas solo en pulgadas.\n",
    "\n",
    "Dale a la tabla el título 'Dimensiones del Producto'.\n",
    "\n",
    "Formatea todo como HTML que pueda utilizarse en un sitio web. \n",
    "Coloca la descripción en un elemento <div>.\n",
    "\n",
    "Especificaciones técnicas: ```{hoja_datos_silla}```\n",
    "\"\"\"\n",
    "\n",
    "respuesta = get_completion(prompt)\n",
    "print(respuesta)\n"
   ]
  },
  {
   "cell_type": "markdown",
   "metadata": {},
   "source": [
    "##### Vista HTML"
   ]
  },
  {
   "cell_type": "code",
   "execution_count": 8,
   "metadata": {},
   "outputs": [],
   "source": [
    "from IPython.display import display, HTML"
   ]
  },
  {
   "cell_type": "code",
   "execution_count": 9,
   "metadata": {},
   "outputs": [
    {
     "data": {
      "text/html": [
       "<div>\n",
       "  <h2>Descripción del Producto</h2>\n",
       "  <p>\n",
       "    Parte de una hermosa familia de muebles de oficina inspirados en mediados del siglo XX, que incluye archivadores, escritorios, estanterías, mesas de reuniones, y más. Varias opciones de color de carcasa y acabados de base. Disponible con tapizado de plástico en la parte trasera y delantera (SWC-100) o tapizado completo (SWC-110) en 10 opciones de tela y 6 opciones de cuero. Opciones de acabado de base: acero inoxidable, negro mate, blanco brillante, o cromo. La silla está disponible con o sin reposabrazos. Adecuada para entornos de hogar o negocio. Calificada para uso contractual.\n",
       "  </p>\n",
       "  <h2>Dimensiones del Producto</h2>\n",
       "  <table>\n",
       "    <tr>\n",
       "      <th>Dimensión</th>\n",
       "      <th>Medida (pulgadas)</th>\n",
       "    </tr>\n",
       "    <tr>\n",
       "      <td>Ancho</td>\n",
       "      <td>20,87\"</td>\n",
       "    </tr>\n",
       "    <tr>\n",
       "      <td>Profundidad</td>\n",
       "      <td>20,08\"</td>\n",
       "    </tr>\n",
       "    <tr>\n",
       "      <td>Altura</td>\n",
       "      <td>31,50\"</td>\n",
       "    </tr>\n",
       "    <tr>\n",
       "      <td>Altura del Asiento</td>\n",
       "      <td>17,32\"</td>\n",
       "    </tr>\n",
       "    <tr>\n",
       "      <td>Profundidad del Asiento</td>\n",
       "      <td>16,14\"</td>\n",
       "    </tr>\n",
       "  </table>\n",
       "  <h2>Opciones</h2>\n",
       "  <ul>\n",
       "    <li>Opciones de ruedas para suelos blandos o duros.</li>\n",
       "    <li>Dos opciones de densidad de espuma del asiento: media (1,8 lb/ft3) o alta (2,8 lb/ft3).</li>\n",
       "    <li>Reposabrazos sin brazos o con 8 posiciones de PU.</li>\n",
       "  </ul>\n",
       "  <h2>Materiales</h2>\n",
       "  <ul>\n",
       "    <li>Carcasa Base Plataforma: Aluminio fundido con revestimiento de nailon PA6/PA66 modificado. Grosor de la carcasa: 10 mm.</li>\n",
       "    <li>Asiento: Espuma HD36.</li>\n",
       "  </ul>\n",
       "  <h2>País de Origen</h2>\n",
       "  <p>Italia.</p>\n",
       "</div>"
      ],
      "text/plain": [
       "<IPython.core.display.HTML object>"
      ]
     },
     "metadata": {},
     "output_type": "display_data"
    }
   ],
   "source": [
    "display(HTML(respuesta))"
   ]
  },
  {
   "cell_type": "markdown",
   "metadata": {},
   "source": [
    "## Resumir"
   ]
  },
  {
   "cell_type": "markdown",
   "metadata": {},
   "source": [
    "Resumiremos texto enfocándonos en temas específicos."
   ]
  },
  {
   "cell_type": "markdown",
   "metadata": {},
   "source": [
    "### Texto a resumir"
   ]
  },
  {
   "cell_type": "code",
   "execution_count": 10,
   "metadata": {},
   "outputs": [],
   "source": [
    "prod_review=\"\"\"\n",
    "Compré este peluche de panda para el cumpleaños de mi hija, \\\n",
    "a quien le encanta y lo lleva a todas partes. Es suave y \\ \n",
    "muy tierno, y su rostro tiene un aspecto amigable. Sin embargo, \\ \n",
    "es un poco pequeño para lo que pagué. Creo que puede haber otras opciones \\ \n",
    "más grandes por el mismo precio. Llegó un día antes de lo esperado, \\ \n",
    "así que tuve la oportunidad de jugar con él yo mismo antes de dárselo \\ \n",
    "a ella.\n",
    "\"\"\""
   ]
  },
  {
   "cell_type": "markdown",
   "metadata": {},
   "source": [
    "### Resumir con limite de palabras/oraciones/caracteres"
   ]
  },
  {
   "cell_type": "code",
   "execution_count": null,
   "metadata": {},
   "outputs": [],
   "source": [
    "prompt = f\"\"\"\n",
    "Tu tarea es generar un breve resumen de una reseña de producto de un sitio de comercio electrónico. \n",
    "Sintetiza la reseña a continuación, delimitada por triple comillas invertidas, en un máximo de 30 palabras.\n",
    "\n",
    "Review: ```{prod_review}```\n",
    "\"\"\"\n",
    "\n",
    "response = get_completion(prompt)\n",
    "print(response)\n"
   ]
  },
  {
   "cell_type": "markdown",
   "metadata": {},
   "source": [
    "### Resumir con enfoque en shipping y entrega"
   ]
  },
  {
   "cell_type": "code",
   "execution_count": null,
   "metadata": {},
   "outputs": [],
   "source": [
    "prompt = f\"\"\"\n",
    "Tu tarea es generar un breve resumen de una reseña de producto de un sitio de comercio electrónico para proporcionar retroalimentación al departamento de envíos.\n",
    "Resumir la reseña a continuación, delimitada por triple comillas invertidas, en un máximo de 30 palabras, \n",
    "centrándote en los aspectos relacionados con el envío y la entrega del producto.\n",
    "\n",
    "Review: ```{prod_review}```\n",
    "\"\"\"\n",
    "\n",
    "response = get_completion(prompt)\n",
    "print(response)\n"
   ]
  },
  {
   "cell_type": "markdown",
   "metadata": {},
   "source": [
    "### Probar \"extraer\" en vez de \"resumir\""
   ]
  },
  {
   "cell_type": "code",
   "execution_count": null,
   "metadata": {},
   "outputs": [],
   "source": [
    "prompt = f\"\"\"\n",
    "Tu tarea es extraer información relevante de una reseña de producto de un sitio de comercio electrónico para proporcionar retroalimentación al departamento de envíos.\n",
    "\n",
    "A partir de la reseña a continuación, delimitada por triple comillas, extrae la información relevante sobre el envío y la entrega. Limita el resumen a 30 palabras.\n",
    "\n",
    "Review: ```{prod_review}```\n",
    "\"\"\"\n",
    "\n",
    "response = get_completion(prompt)\n",
    "print(response)"
   ]
  },
  {
   "cell_type": "markdown",
   "metadata": {},
   "source": [
    "## Inferir"
   ]
  },
  {
   "cell_type": "markdown",
   "metadata": {},
   "source": [
    "Inferiremos el sentimiento y los temas a partir de reseñas de productos y artículos de noticias."
   ]
  },
  {
   "cell_type": "markdown",
   "metadata": {},
   "source": [
    "### Reseña de producto"
   ]
  },
  {
   "cell_type": "code",
   "execution_count": 11,
   "metadata": {},
   "outputs": [],
   "source": [
    "lamp_review=\"\"\"Necesitaba una bonita lámpara para mi habitación, y esta tenía almacenamiento adicional y un precio razonable. \n",
    "Llegó rápido. La cuerda de la lámpara se rompió durante el transporte y la empresa envió rápidamente una nueva. \n",
    "También fue fácil de montar. Me faltaba una pieza, así que contacté con su soporte y me enviaron la pieza que faltaba rápidamente. \n",
    "¡Lumina me parece una gran empresa que se preocupa por sus clientes y productos!\"\"\""
   ]
  },
  {
   "cell_type": "markdown",
   "metadata": {},
   "source": [
    "### Sentimiento (positivo/negativo)"
   ]
  },
  {
   "cell_type": "code",
   "execution_count": 12,
   "metadata": {},
   "outputs": [
    {
     "name": "stdout",
     "output_type": "stream",
     "text": [
      "El sentimiento de la reseña es positivo. El autor destaca aspectos como la rapidez en la entrega, la atención al cliente y la calidad del producto.\n"
     ]
    }
   ],
   "source": [
    "prompt = f\"\"\"\n",
    "Cual es el sentimiento de la siguiente reseña de producto, la cual está delimitada por triple comillas invertidas?\n",
    "\n",
    "Review text: '''{lamp_review}'''\n",
    "\"\"\"\n",
    "response = get_completion(prompt)\n",
    "print(response)"
   ]
  },
  {
   "cell_type": "markdown",
   "metadata": {},
   "source": [
    "### Identificar tipos de emociones"
   ]
  },
  {
   "cell_type": "code",
   "execution_count": 13,
   "metadata": {},
   "outputs": [
    {
     "name": "stdout",
     "output_type": "stream",
     "text": [
      "satisfacción, gratitud, alivio, admiración, confianza\n"
     ]
    }
   ],
   "source": [
    "prompt = f\"\"\"\n",
    "Identifica una lista de emociones que el escritor de la siguiente reseña está expresando. \n",
    "Incluir no más de cinco items en una lista. \n",
    "El formato deseado es una lista en minúsculas separado por comas.\n",
    "\n",
    "Review text: '''{lamp_review}'''\n",
    "\"\"\"\n",
    "response = get_completion(prompt)\n",
    "print(response)"
   ]
  },
  {
   "cell_type": "markdown",
   "metadata": {},
   "source": [
    "### Extraer el nombre del producto y el nombre de la empresa de la reseña del producto"
   ]
  },
  {
   "cell_type": "code",
   "execution_count": 14,
   "metadata": {},
   "outputs": [
    {
     "name": "stdout",
     "output_type": "stream",
     "text": [
      "{\n",
      "  \"Item\": \"lámpara\",\n",
      "  \"Marca\": \"Lumina\"\n",
      "}\n"
     ]
    }
   ],
   "source": [
    "prompt = f\"\"\"\n",
    "Identificar los siguientes items en el texto de la reseña: \n",
    "- Producto comprado por el cliente\n",
    "- Empresa que vendió el producto\n",
    "\n",
    "La reseña está delimitada con triple comillas invertidas. \\\n",
    "El formato deseado de la respuesta es un JSON con las claves \\\n",
    "\"Item\" y \"Marca\". \n",
    "Si la información no está presente, usar \"desconocido\"como el valor.\n",
    "Hacer la respuesta lo más corta posible.\n",
    "  \n",
    "Review text: '''{lamp_review}'''\n",
    "\"\"\"\n",
    "response = get_completion(prompt)\n",
    "print(response)"
   ]
  },
  {
   "cell_type": "markdown",
   "metadata": {},
   "source": [
    "## Transformar"
   ]
  },
  {
   "cell_type": "markdown",
   "metadata": {},
   "source": [
    "Vamos a explorar como usar Large Language Models para tareas de transformación de texto, como traducción, detección de errores de ortografía o gramática, ajuste de tono y conversión de formato."
   ]
  },
  {
   "cell_type": "markdown",
   "metadata": {},
   "source": [
    "### Traducción"
   ]
  },
  {
   "cell_type": "code",
   "execution_count": 15,
   "metadata": {},
   "outputs": [
    {
     "name": "stdout",
     "output_type": "stream",
     "text": [
      "Hola, me gustaría ordenar una licuadora.\n"
     ]
    }
   ],
   "source": [
    "prompt = f\"\"\"\n",
    "Traducir el siguiente texto de inglés a español: \\ \n",
    "```Hi, I would like to order a blender```\n",
    "\"\"\"\n",
    "response = get_completion(prompt)\n",
    "print(response)"
   ]
  },
  {
   "cell_type": "code",
   "execution_count": 16,
   "metadata": {},
   "outputs": [
    {
     "name": "stdout",
     "output_type": "stream",
     "text": [
      "El texto está en francés.\n"
     ]
    }
   ],
   "source": [
    "prompt = f\"\"\"\n",
    "Indicar en qué idioma está el siguiente texto ```Combien coûte le lampadaire?```\n",
    "\"\"\"\n",
    "response = get_completion(prompt)\n",
    "print(response)"
   ]
  },
  {
   "cell_type": "markdown",
   "metadata": {},
   "source": [
    "#### Traductor universal"
   ]
  },
  {
   "cell_type": "code",
   "execution_count": 17,
   "metadata": {},
   "outputs": [],
   "source": [
    "user_messages = [\n",
    "  \"La performance du système est plus lente que d'habitude.\",     \n",
    "  \"Mi monitor tiene píxeles que no se iluminan.\",              \n",
    "  \"Il mio mouse non funziona\",                                 \n",
    "  \"Mój klawisz Ctrl jest zepsuty\",                             \n",
    "  \"我的屏幕在闪烁\"                                               \n",
    "] "
   ]
  },
  {
   "cell_type": "code",
   "execution_count": 19,
   "metadata": {},
   "outputs": [
    {
     "name": "stdout",
     "output_type": "stream",
     "text": [
      "Original message (El texto está en francés.): La performance du système est plus lente que d'habitude.\n",
      "Español: \"El rendimiento del sistema es más lento de lo habitual.\"\n",
      "Coreano: \"시스템 성능이 평소보다 느립니다.\" (Siseutem seongnyeom-i pyeongsoboda neullimnida) \n",
      "\n",
      "Original message (El texto está en español.): Mi monitor tiene píxeles que no se iluminan.\n",
      "Español: \"Mi monitor tiene píxeles que no se iluminan.\"\n",
      "Coreano: \"내 모니터에는 밝아지지 않는 픽셀이 있습니다.\" (Nae moniteoeneun balkaji anhneun pikseli issseumnida) \n",
      "\n",
      "Original message (El texto está en italiano.): Il mio mouse non funziona\n",
      "Español: \"Mi mouse no funciona\"\n",
      "Coreano: \"내 마우스가 작동하지 않아요\" (Nae mauseuga jadonghaji anayo) \n",
      "\n",
      "Original message (El texto está en polaco.): Mój klawisz Ctrl jest zepsuty\n",
      "Español: \"Mi tecla Ctrl está rota\"\n",
      "Coreano: \"내 Ctrl 키가 고장 났어요\" \n",
      "\n",
      "Original message (El texto está en chino.): 我的屏幕在闪烁\n",
      "Español: \"Mi pantalla está parpadeando\"\n",
      "Coreano: \"내 화면이 깜박거리고 있어요\" (nae hwamyeon-i kkambakgeoligo iss-eoyo) \n",
      "\n"
     ]
    }
   ],
   "source": [
    "for issue in user_messages:\n",
    "    prompt = f\"Indicar en qué idioma está el siguiente texto: ```{issue}```\"\n",
    "    lang = get_completion(prompt)\n",
    "    print(f\"Original message ({lang}): {issue}\")\n",
    "\n",
    "    prompt = f\"\"\"\n",
    "    Traducir el siguiente texto a Español y Coreano: ```{issue}```\n",
    "    \"\"\"\n",
    "    response = get_completion(prompt)\n",
    "    print(response, \"\\n\")"
   ]
  },
  {
   "cell_type": "markdown",
   "metadata": {},
   "source": [
    "### Cambio de tono del mensaje"
   ]
  },
  {
   "cell_type": "code",
   "execution_count": 20,
   "metadata": {},
   "outputs": [
    {
     "name": "stdout",
     "output_type": "stream",
     "text": [
      "Estimado/a [Nombre del destinatario],\n",
      "\n",
      "Espero que este mensaje le encuentre bien. Mi nombre es Juan y me gustaría presentarle las especificaciones de una lámpara de piso que considero podría ser de su interés.\n",
      "\n",
      "Adjunto a este correo encontrará un documento detallado que describe las características técnicas y funcionales de la lámpara en cuestión. Creo que esta lámpara podría ser una excelente adición a su espacio, ya sea en su hogar u oficina.\n",
      "\n",
      "Si tiene alguna pregunta o requiere más información, no dude en ponerse en contacto conmigo. Estoy a su disposición para brindarle cualquier asistencia adicional que pueda necesitar.\n",
      "\n",
      "Agradezco su atención y espero tener la oportunidad de discutir más a fondo esta propuesta con usted.\n",
      "\n",
      "Atentamente,\n",
      "\n",
      "Juan\n"
     ]
    }
   ],
   "source": [
    "prompt = f\"\"\"\n",
    "Traducir el siguiente texto a una carta de negocios: \n",
    "'Holis, soy Juan, chequeá estas especificaciones de esta lámpara de piso.'\n",
    "\"\"\"\n",
    "response = get_completion(prompt)\n",
    "print(response)"
   ]
  },
  {
   "cell_type": "markdown",
   "metadata": {},
   "source": [
    "### Conversión de formato"
   ]
  },
  {
   "cell_type": "code",
   "execution_count": 21,
   "metadata": {},
   "outputs": [
    {
     "name": "stdout",
     "output_type": "stream",
     "text": [
      "<table>\n",
      "  <tr>\n",
      "    <th>Nombre</th>\n",
      "    <th>Email</th>\n",
      "  </tr>\n",
      "  <tr>\n",
      "    <td>Shyam</td>\n",
      "    <td>shyamjaiswal@gmail.com</td>\n",
      "  </tr>\n",
      "  <tr>\n",
      "    <td>Bob</td>\n",
      "    <td>bob32@gmail.com</td>\n",
      "  </tr>\n",
      "  <tr>\n",
      "    <td>Jai</td>\n",
      "    <td>jai87@gmail.com</td>\n",
      "  </tr>\n",
      "</table>\n"
     ]
    }
   ],
   "source": [
    "data_json = { \"Empleados\" :[ \n",
    "    {\"name\":\"Shyam\", \"email\":\"shyamjaiswal@gmail.com\"},\n",
    "    {\"name\":\"Bob\", \"email\":\"bob32@gmail.com\"},\n",
    "    {\"name\":\"Jai\", \"email\":\"jai87@gmail.com\"}\n",
    "]}\n",
    "\n",
    "prompt = f\"\"\"\n",
    "Traducir el siguiente diccionario de python de JSON a una tabla HTML con titulo de columnas y titulo general: {data_json}\n",
    "\"\"\"\n",
    "response = get_completion(prompt)\n",
    "print(response)"
   ]
  },
  {
   "cell_type": "code",
   "execution_count": 22,
   "metadata": {},
   "outputs": [
    {
     "data": {
      "text/html": [
       "<table>\n",
       "  <tr>\n",
       "    <th>Nombre</th>\n",
       "    <th>Email</th>\n",
       "  </tr>\n",
       "  <tr>\n",
       "    <td>Shyam</td>\n",
       "    <td>shyamjaiswal@gmail.com</td>\n",
       "  </tr>\n",
       "  <tr>\n",
       "    <td>Bob</td>\n",
       "    <td>bob32@gmail.com</td>\n",
       "  </tr>\n",
       "  <tr>\n",
       "    <td>Jai</td>\n",
       "    <td>jai87@gmail.com</td>\n",
       "  </tr>\n",
       "</table>"
      ],
      "text/plain": [
       "<IPython.core.display.HTML object>"
      ]
     },
     "metadata": {},
     "output_type": "display_data"
    }
   ],
   "source": [
    "from IPython.display import display, Markdown, Latex, HTML, JSON\n",
    "display(HTML(response))"
   ]
  },
  {
   "cell_type": "markdown",
   "metadata": {},
   "source": [
    "### Detección de errores de ortografía/gramática"
   ]
  },
  {
   "cell_type": "markdown",
   "metadata": {},
   "source": [
    "Tengo un texto en inglés con errores, quiero que me lo reescriba sin errores"
   ]
  },
  {
   "cell_type": "code",
   "execution_count": 23,
   "metadata": {},
   "outputs": [
    {
     "name": "stdout",
     "output_type": "stream",
     "text": [
      "The girl with the black and white puppies has a ball.\n",
      "No errors found.\n",
      "No errors found.\n",
      "There goes my freedom. They're going to bring their suitcases.\n",
      "You're going to need your notebook.\n",
      "That medicine affects my ability to sleep. Have you heard of the butterfly effect?\n",
      "This phrase is to check chatGPT for spelling ability.\n"
     ]
    }
   ],
   "source": [
    "text = [ \n",
    "  \"The girl with the black and white puppies have a ball.\",  # The girl has a ball.\n",
    "  \"Yolanda has her notebook.\", # ok\n",
    "  \"Its going to be a long day. Does the car need it’s oil changed?\",  # Homonyms\n",
    "  \"Their goes my freedom. There going to bring they’re suitcases.\",  # Homonyms\n",
    "  \"Your going to need you’re notebook.\",  # Homonyms\n",
    "  \"That medicine effects my ability to sleep. Have you heard of the butterfly affect?\", # Homonyms\n",
    "  \"This phrase is to cherck chatGPT for speling abilitty\"  # spelling\n",
    "]\n",
    "for t in text:\n",
    "    prompt = f\"\"\"Proofread and correct the following text\n",
    "    and rewrite the corrected version. If you don't find\n",
    "    and errors, just say \"No errors found\". Don't use \n",
    "    any punctuation around the text:\n",
    "    ```{t}```\"\"\"\n",
    "    response = get_completion(prompt)\n",
    "    print(response)"
   ]
  },
  {
   "cell_type": "markdown",
   "metadata": {},
   "source": [
    "## Expandiendo"
   ]
  },
  {
   "cell_type": "markdown",
   "metadata": {},
   "source": [
    "Generaremos correos electrónicos de servicio al cliente que se adaptan a la opinión de cada cliente.\n",
    "\n"
   ]
  },
  {
   "cell_type": "markdown",
   "metadata": {},
   "source": [
    "### Personalizar la respuesta automática al correo electrónico de un cliente"
   ]
  },
  {
   "cell_type": "code",
   "execution_count": 24,
   "metadata": {},
   "outputs": [],
   "source": [
    "# dado el sentimiento de la lección sobre \"inferir\",\n",
    "# y el mensaje original del cliente, personaliza el correo electrónico\n",
    "sentimiento = \"negativo\"\n",
    "\n",
    "# revisión de una licuadora\n",
    "reseña = f\"\"\"\n",
    "Entonces, todavía tenían el sistema de 17 piezas en temporada \\\n",
    "venta por alrededor de $49 en el mes de noviembre, aproximadamente \\\n",
    "A mitad de precio, pero por alguna razón (llámelo aumento abusivo de precios) \\\n",
    "Alrededor de la segunda semana de diciembre todos los precios subieron \\\n",
    "hasta aproximadamente entre $ 70 y $ 89 por el mismo \\\n",
    "sistema. Y el sistema de 11 piezas subió alrededor de $10 o \\\n",
    "por lo que el precio también difiere del precio de venta anterior de 29 dólares. \\\n",
    "Se ve bien, pero si miras la base, la parte \\\n",
    "donde la hoja encaja en su lugar no se ve tan bien \\\n",
    "como en ediciones anteriores de hace unos años, pero yo \\\n",
    "planeo ser muy gentil con él (por ejemplo, aplasto \\\n",
    "artículos muy duros como frijoles, hielo, arroz, etc. en el \\\n",
    "licuadora primero y luego pulverizarlos en el tamaño de la porción \\\n",
    "Quiero en la licuadora y luego pasar a batir \\\n",
    "cuchilla para obtener una harina más fina y utilice la cuchilla de corte transversal \\\n",
    "primero al hacer batidos, luego use la hoja plana \\\n",
    "si los necesito más finos/menos pulposos). Consejo especial al hacer \\\n",
    "batidos, cortar finamente y congelar las frutas y \\\n",
    "verduras (si usa espinacas, guisadas ligeramente, ablande el \\\n",
    "espinacas y luego congélelas hasta que estén listas para usar, y si las prepara \\\n",
    "sorbete, use un procesador de alimentos de tamaño pequeño a mediano) \\\n",
    "que planeas usar de esa manera puedes evitar agregarlo \\\n",
    "mucho hielo, si es necesario, al preparar el batido. \\\n",
    "Después de aproximadamente un año, el motor hacía un ruido extraño. \\\n",
    "Llamé a atención al cliente pero la garantía expiró \\\n",
    "Ya, así que tuve que comprar otro. Para su información: el general \\\n",
    "La calidad se ha hecho en este tipo de productos, por eso \\\n",
    "en cierto modo cuentan con el reconocimiento de la marca y \\\n",
    "Fidelización del consumidor para mantener las ventas. Lo tengo en aproximadamente \\\n",
    "dos días.\n",
    "\"\"\""
   ]
  },
  {
   "cell_type": "code",
   "execution_count": 25,
   "metadata": {},
   "outputs": [
    {
     "name": "stdout",
     "output_type": "stream",
     "text": [
      "Estimado cliente,\n",
      "\n",
      "Gracias por tomarse el tiempo para dejarnos su opinión sobre nuestro sistema de 17 piezas. Lamentamos sinceramente que haya experimentado un aumento de precios y que haya encontrado problemas con la calidad del producto.\n",
      "\n",
      "Nos disculpamos por cualquier inconveniente que esto haya causado. Valoramos sus comentarios y nos gustaría asegurarle que tomamos en serio todas las preocupaciones de nuestros clientes. Le recomendamos que se comunique con nuestro servicio de atención al cliente para que podamos abordar sus inquietudes de manera más específica y encontrar una solución adecuada para usted.\n",
      "\n",
      "Apreciamos su lealtad como cliente y nos gustaría tener la oportunidad de rectificar esta situación. Si hay algo más en lo que podamos ayudarlo, no dude en contactarnos.\n",
      "\n",
      "Atentamente,\n",
      "Agente de servicio al cliente de IA\n"
     ]
    }
   ],
   "source": [
    "prompt = f\"\"\"\n",
    "Eres un asistente de IA de servicio al cliente.\n",
    "Su tarea es enviar una respuesta por correo electrónico a un cliente valioso.\n",
    "Dado el correo electrónico del cliente delimitado por ```, \\\n",
    "Generar una respuesta para agradecer al cliente por su reseña.\n",
    "Si el sentimiento es positivo o neutral, agradézcales por \\\n",
    "su revisión.\n",
    "Si el sentimiento es negativo, discúlpese y sugiera que \\\n",
    "pueden comunicarse con el servicio de atención al cliente.\n",
    "Asegúrese de utilizar detalles específicos de la revisión.\n",
    "Escribe en un tono conciso y profesional.\n",
    "Firme el correo electrónico como \"agente de cliente de AI\".\n",
    "Opinión del cliente: ```{reseña}```\n",
    "Opinión de la reseña: {sentimiento}\n",
    "\"\"\"\n",
    "response = get_completion(prompt)\n",
    "print(response)"
   ]
  },
  {
   "cell_type": "markdown",
   "metadata": {},
   "source": [
    "### Cambiar la temperatura"
   ]
  },
  {
   "cell_type": "markdown",
   "metadata": {},
   "source": [
    "La temperatura es que tanto quiero que varie el modelo de una respuesta a otra, va de 0 a 1. Por defecto está en 0."
   ]
  },
  {
   "cell_type": "code",
   "execution_count": 27,
   "metadata": {},
   "outputs": [
    {
     "name": "stdout",
     "output_type": "stream",
     "text": [
      "Estimado cliente,\n",
      "\n",
      "Gracias por tomarse el tiempo para dejarnos su opinión sobre nuestro sistema de 17 piezas. Lamentamos escuchar que ha experimentado un aumento en los precios y que ha notado una disminución en la calidad en comparación con las ediciones anteriores.\n",
      "\n",
      "Nos disculpamos por cualquier inconveniente que esto pueda haber causado. Valoramos sus comentarios y nos gustaría asegurarnos de que esté satisfecho con su compra. Le recomendamos que se comunique con nuestro servicio de atención al cliente para que podamos abordar sus inquietudes y encontrar una solución adecuada.\n",
      "\n",
      "Apreciamos sus consejos sobre cómo utilizar el sistema de manera efectiva para obtener los mejores resultados. Tomaremos en cuenta sus sugerencias y las compartiremos con nuestro equipo de desarrollo.\n",
      "\n",
      "Nuevamente, nos disculpamos por cualquier inconveniente que haya experimentado y agradecemos su lealtad a nuestra marca. Si tiene alguna otra pregunta o inquietud, no dude en contactarnos.\n",
      "\n",
      "Atentamente,\n",
      "Agente de servicio al cliente de IA\n"
     ]
    }
   ],
   "source": [
    "prompt = f\"\"\"\n",
    "Eres un asistente de IA de servicio al cliente.\n",
    "Su tarea es enviar una respuesta por correo electrónico a un cliente valioso.\n",
    "Dado el correo electrónico del cliente delimitado por ```, \\\n",
    "Generar una respuesta para agradecer al cliente por su reseña.\n",
    "Si el sentimiento es positivo o neutral, agradézcales por \\\n",
    "su revisión.\n",
    "Si el sentimiento es negativo, discúlpese y sugiera que \\\n",
    "pueden comunicarse con el servicio de atención al cliente.\n",
    "Asegúrese de utilizar detalles específicos de la revisión.\n",
    "Escribe en un tono conciso y profesional.\n",
    "Firme el correo electrónico como \"agente de cliente de AI\".\n",
    "Opinión del cliente: ```{reseña}```\n",
    "Opinión de la reseña: {sentimiento}\n",
    "\"\"\"\n",
    "response = get_completion(prompt, temperature=0.7)\n",
    "print(response)"
   ]
  }
 ],
 "metadata": {
  "kernelspec": {
   "display_name": "Python 3",
   "language": "python",
   "name": "python3"
  },
  "language_info": {
   "codemirror_mode": {
    "name": "ipython",
    "version": 3
   },
   "file_extension": ".py",
   "mimetype": "text/x-python",
   "name": "python",
   "nbconvert_exporter": "python",
   "pygments_lexer": "ipython3",
   "version": "3.8.10"
  },
  "orig_nbformat": 4
 },
 "nbformat": 4,
 "nbformat_minor": 2
}
