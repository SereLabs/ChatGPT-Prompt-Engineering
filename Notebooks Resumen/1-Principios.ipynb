{
 "cells": [
  {
   "cell_type": "markdown",
   "metadata": {},
   "source": [
    "## Principios de prompting\n",
    "- **Principio 1: Instrucciones claras y específicas**\n",
    "- **Principle 2: Hay que darle al modelo tiempo para pensar**"
   ]
  },
  {
   "cell_type": "code",
   "execution_count": 1,
   "metadata": {},
   "outputs": [],
   "source": [
    "import openai\n",
    "import os\n",
    "\n",
    "from dotenv import load_dotenv, find_dotenv\n",
    "_ = load_dotenv(find_dotenv())\n",
    "\n",
    "openai.api_key  = os.getenv('OPENAI_API_KEY')"
   ]
  },
  {
   "cell_type": "markdown",
   "metadata": {},
   "source": [
    "#### Función get_completion\n",
    "Usaremos el `gpt-3.5-turbo` model y el [chat completions endpoint](https://platform.openai.com/docs/guides/chat). Una api que nos permite hacer preguntas y obtener respuestas.\n",
    "\n",
    "Esta función va a ayudar a hacer prompts y mirar las salidas"
   ]
  },
  {
   "cell_type": "code",
   "execution_count": 2,
   "metadata": {},
   "outputs": [],
   "source": [
    "def get_completion(prompt, model=\"gpt-3.5-turbo\"):\n",
    "    messages = [{\"role\": \"user\", \"content\": prompt}]\n",
    "    response = openai.ChatCompletion.create(\n",
    "        model=model,\n",
    "        messages=messages,\n",
    "        temperature=0, # this is the degree of randomness of the model's output\n",
    "    )\n",
    "    return response.choices[0].message[\"content\"]"
   ]
  },
  {
   "cell_type": "markdown",
   "metadata": {},
   "source": [
    "### Tácticas\n",
    "\n",
    "#### Táctica 1: Utilizar delimitadores para indicar claramente partes distintas de la entrada\n",
    "- Los delimitadores pueden ser cualquier cosa como:  ```, \"\"\", < >, `<tag> </tag>`, `:`"
   ]
  },
  {
   "cell_type": "code",
   "execution_count": 3,
   "metadata": {},
   "outputs": [
    {
     "name": "stdout",
     "output_type": "stream",
     "text": [
      "Debes proporcionar instrucciones claras y específicas para guiar al modelo hacia la salida deseada y evitar respuestas irrelevantes o incorrectas, aunque las indicaciones más largas pueden proporcionar más claridad y contexto para obtener salidas más detalladas y relevantes.\n"
     ]
    }
   ],
   "source": [
    "texto = f\"\"\"\n",
    "Debes expresar lo que deseas que un modelo haga \\ \n",
    "proporcionando instrucciones que sean lo más claras y \\ \n",
    "específicas posible. \\ \n",
    "Esto guiará al modelo hacia la salida deseada, \\ \n",
    "y reducirá las posibilidades de recibir respuestas irrelevantes \\ \n",
    "o incorrectas. No confundas escribir una \\ \n",
    "indicación clara con escribir una indicación corta. \\ \n",
    "En muchos casos, las indicaciones más largas proporcionan más claridad \\ \n",
    "y contexto al modelo, lo que puede llevar a \\ \n",
    "salidas más detalladas y relevantes.\n",
    "\"\"\"\n",
    "\n",
    "prompt = f\"\"\"\n",
    "Resume el texto delimitado por triples comillas \\ \n",
    "en una sola oración.\n",
    "```{texto}```\n",
    "\"\"\"\n",
    "respuesta = get_completion(prompt)\n",
    "print(respuesta)\n"
   ]
  },
  {
   "cell_type": "markdown",
   "metadata": {},
   "source": [
    "#### Táctica 2: Solicitar una respuesta estructurada\n",
    "- JSON, HTML"
   ]
  },
  {
   "cell_type": "code",
   "execution_count": 4,
   "metadata": {},
   "outputs": [
    {
     "name": "stdout",
     "output_type": "stream",
     "text": [
      "{\n",
      "  \"book_id\": 1,\n",
      "  \"título\": \"El misterio del faro\",\n",
      "  \"autor\": \"Laura García\",\n",
      "  \"género\": \"Misterio\"\n",
      "},\n",
      "{\n",
      "  \"book_id\": 2,\n",
      "  \"título\": \"El secreto de la montaña\",\n",
      "  \"autor\": \"Carlos Martínez\",\n",
      "  \"género\": \"Aventura\"\n",
      "},\n",
      "{\n",
      "  \"book_id\": 3,\n",
      "  \"título\": \"La magia de los sueños\",\n",
      "  \"autor\": \"María López\",\n",
      "  \"género\": \"Fantasía\"\n",
      "}\n"
     ]
    }
   ],
   "source": [
    "prompt = f\"\"\"\n",
    "Genera una lista de tres títulos ficticios de libros, \\ \n",
    "junto con sus autores y géneros. \n",
    "Proporciónalos en formato JSON con las siguientes claves: \n",
    "book_id, título, autor, género.\n",
    "\"\"\"\n",
    "respuesta = get_completion(prompt)\n",
    "print(respuesta)"
   ]
  },
  {
   "cell_type": "markdown",
   "metadata": {},
   "source": [
    "#### Táctica 3: Solicitarle al modelo que verifique que se satisfagan condiciones"
   ]
  },
  {
   "cell_type": "code",
   "execution_count": 5,
   "metadata": {},
   "outputs": [
    {
     "name": "stdout",
     "output_type": "stream",
     "text": [
      "Completado para Texto 1:\n",
      "Paso 1 - Poner a hervir un poco de agua.\n",
      "Paso 2 - Tomar una taza y colocar una bolsita de té en ella.\n",
      "Paso 3 - Verter el agua caliente sobre la bolsita de té.\n",
      "Paso 4 - Dejar que el té repose para que se infusione.\n",
      "Paso 5 - Sacar la bolsita de té.\n",
      "Paso 6 - Opcionalmente, añadir azúcar o leche al gusto.\n",
      "Paso 7 - Disfrutar de una deliciosa taza de té.\n",
      "\n",
      "Completado para Texto 2:\n",
      "No se proporcionaron pasos.\n"
     ]
    }
   ],
   "source": [
    "texto_1 = f\"\"\"\n",
    "¡Preparar una taza de té es fácil! En primer lugar, necesitas \\ \n",
    "poner a hervir un poco de agua. Mientras eso sucede, \\ \n",
    "toma una taza y coloca una bolsita de té en ella. Una vez que el agua esté \\ \n",
    "suficientemente caliente, simplemente viértela sobre la bolsita de té. \\ \n",
    "Deja que repose un poco para que el té pueda infusionarse. Después de unos \\ \n",
    "minutos, saca la bolsita de té. Si lo deseas, puedes añadir azúcar o leche al gusto. \\ \n",
    "¡Y eso es todo! Tienes una deliciosa \\ \n",
    "taza de té para disfrutar.\n",
    "\"\"\"\n",
    "\n",
    "texto_2 = f\"\"\"\n",
    "El sol brilla intensamente hoy, y los pájaros están \\\n",
    "cantando. Es un hermoso día para dar un \\ \n",
    "paseo por el parque. Las flores están floreciendo, y los \\ \n",
    "árboles se mecen suavemente con la brisa. La gente \\ \n",
    "está afuera, disfrutando del hermoso clima. \\ \n",
    "Algunos están teniendo picnics, mientras que otros están jugando \\ \n",
    "juegos o simplemente relajándose en el césped. Es un \\ \n",
    "día perfecto para pasar tiempo al aire libre y apreciar la \\ \n",
    "belleza de la naturaleza.\n",
    "\"\"\"\n",
    "\n",
    "prompt = f\"\"\"\n",
    "Se te proporcionará un texto delimitado por triples comillas. \n",
    "Si contiene una secuencia de instrucciones, \\ \n",
    "reescríbelas en el siguiente formato:\n",
    "\n",
    "Paso 1 - ...\n",
    "Paso 2 - …\n",
    "…\n",
    "Paso N - …\n",
    "\n",
    "Si el texto no contiene una secuencia de instrucciones, \\ \n",
    "simplemente escribe \"No se proporcionaron pasos\".\n",
    "\n",
    "\\\"\\\"\\\"{texto_1}\\\"\\\"\\\"\n",
    "\"\"\"\n",
    "\n",
    "print(\"Completado para Texto 1:\")\n",
    "print(get_completion(prompt))\n",
    "\n",
    "print(\"\\nCompletado para Texto 2:\")\n",
    "print(get_completion(prompt.replace(texto_1, texto_2)))\n"
   ]
  },
  {
   "cell_type": "markdown",
   "metadata": {},
   "source": [
    "#### Táctica 4: \"Few-shot\" prompting (pocas muestras)"
   ]
  },
  {
   "cell_type": "code",
   "execution_count": 6,
   "metadata": {},
   "outputs": [
    {
     "name": "stdout",
     "output_type": "stream",
     "text": [
      "<abuelo>: La resiliencia es como un árbol que se dobla con el viento, pero nunca se quiebra. Es la capacidad de enfrentar los desafíos y superar las adversidades. Al igual que el árbol, podemos aprender a adaptarnos y encontrar fuerza en medio de las dificultades. La resiliencia nos enseña a levantarnos una y otra vez, incluso cuando pareciera que todo está en contra nuestra. Es una cualidad valiosa que nos permite crecer y transformarnos en personas más fuertes y sabias.\n"
     ]
    }
   ],
   "source": [
    "prompt = f\"\"\"\n",
    "Tu tarea es responder de manera coherente.\n",
    "\n",
    "<niño>: Enséñame sobre la paciencia.\n",
    "\n",
    "<abuelo>: El río que talla el valle más profundo fluye desde un manantial modesto; \\ \n",
    "la sinfonía más grandiosa tiene su origen en una sola nota; \\ \n",
    "el tapiz más intrincado comienza con un solo hilo.\n",
    "\n",
    "<niño>: Enséñame sobre la resiliencia.\n",
    "\"\"\"\n",
    "print(get_completion(prompt))\n"
   ]
  },
  {
   "cell_type": "markdown",
   "metadata": {},
   "source": [
    "### Principio 2: Darle al modelo tiempo para pensar\n",
    "\n",
    "#### Táctica 1: Especificar los pasos requeridos para una tarea"
   ]
  },
  {
   "cell_type": "code",
   "execution_count": 11,
   "metadata": {},
   "outputs": [
    {
     "name": "stdout",
     "output_type": "stream",
     "text": [
      "Resumen: Los hermanos Jack y Jill se embarcaron en una misión para recoger agua de un pozo en la cima de una colina, pero sufrieron un accidente al tropezar y rodar colina abajo, aunque regresaron a casa y continuaron explorando con alegría.\n",
      "Traducción: Les frères Jack et Jill se sont lancés dans une mission pour collecter de l'eau d'un puits au sommet d'une colline, mais ont eu un accident en trébuchant et en roulant en bas de la colline, bien qu'ils soient rentrés chez eux et aient continué à explorer avec joie.\n",
      "Nombres: Jack, Jill\n",
      "Salida JSON: {\"french_summary\": \"Les frères Jack et Jill se sont lancés dans une mission pour collecter de l'eau d'un puits au sommet d'une colline, mais ont eu un accident en trébuchant et en roulant en bas de la colline, bien qu'ils soient rentrés chez eux et aient continué à explorer avec joie.\", \"num_names\": 2}\n"
     ]
    }
   ],
   "source": [
    "texto = f\"\"\"\n",
    "En un encantador pueblo, los hermanos Jack y Jill se embarcaron en \\ \n",
    "una misión para recoger agua de un pozo en la cima de una colina. \\ \n",
    "Mientras subían, cantando con alegría, la desgracia \\ \n",
    "los golpeó: Jack tropezó con una piedra y rodó \\ \n",
    "colina abajo, seguido por Jill. \\ \n",
    "A pesar de algunos golpes, la pareja regresó a casa y recibió \\ \n",
    "abrazos reconfortantes. A pesar del percance, \\ \n",
    "sus espíritus aventureros no se apagaron, y continuaron explorando con alegría.\n",
    "\"\"\"\n",
    "\n",
    "prompt = f\"\"\"\n",
    "Tu tarea es realizar las siguientes acciones: \n",
    "1 - Resume el siguiente texto delimitado por \n",
    "  <> en 1 oración.\n",
    "2 - Traduce el resumen al francés.\n",
    "3 - Enumera cada nombre en el resumen en francés.\n",
    "4 - Genera un objeto JSON que contenga las \n",
    "  siguientes claves: french_summary, num_names.\n",
    "\n",
    "Utiliza el siguiente formato:\n",
    "Texto: <texto a resumir>\n",
    "Resumen: <resumen>\n",
    "Traducción: <traducción del resumen>\n",
    "Nombres: <lista de nombres en el resumen en francés>\n",
    "Salida JSON: <json con el resumen y num_names>\n",
    "\n",
    "Texto: <{texto}>\n",
    "\"\"\"\n",
    "respuesta = get_completion(prompt)\n",
    "print(respuesta)\n"
   ]
  },
  {
   "cell_type": "markdown",
   "metadata": {},
   "source": [
    "#### Táctica 2: Instruir al modelo a proponer su propia solución antes de apurarse a una conclusión"
   ]
  },
  {
   "cell_type": "code",
   "execution_count": 12,
   "metadata": {},
   "outputs": [
    {
     "name": "stdout",
     "output_type": "stream",
     "text": [
      "La solución del estudiante es correcta. El costo total para el primer año de operaciones como función del número de pies cuadrados es de 450x + 100,000.\n"
     ]
    }
   ],
   "source": [
    "prompt = f\"\"\"\n",
    "Determina si la solución del estudiante es correcta o no.\n",
    "\n",
    "Pregunta:\n",
    "Estoy construyendo una instalación de energía solar y necesito \\\n",
    "ayuda para calcular los aspectos financieros. \n",
    "- El costo del terreno es de $100 por pie cuadrado.\n",
    "- Puedo comprar paneles solares por $250 por pie cuadrado.\n",
    "- Negocié un contrato de mantenimiento que costará \\ \n",
    "un flat de $100,000 al año, y un adicional de $10 por pie \\\n",
    "cuadrado.\n",
    "¿Cuál es el costo total para el primer año de operaciones \n",
    "como función del número de pies cuadrados?\n",
    "\n",
    "Solución del estudiante:\n",
    "Sea x el tamaño de la instalación en pies cuadrados.\n",
    "Costos:\n",
    "1. Costo del terreno: 100x\n",
    "2. Costo de los paneles solares: 250x\n",
    "3. Costo de mantenimiento: 100,000 + 100x\n",
    "Costo total: 100x + 250x + 100,000 + 100x = 450x + 100,000\n",
    "\"\"\"\n",
    "respuesta = get_completion(prompt)\n",
    "print(respuesta)"
   ]
  },
  {
   "cell_type": "markdown",
   "metadata": {},
   "source": [
    "Ojo que la solución del estudiante en verdad está mal. La manera de ayudar al modelo es hacer que el modelo proponga su propia solución antes de apurarse a una conclusión."
   ]
  },
  {
   "cell_type": "code",
   "execution_count": 17,
   "metadata": {},
   "outputs": [
    {
     "name": "stdout",
     "output_type": "stream",
     "text": [
      "Para encontrar el costo total del primer año de operaciones en función del número de pies cuadrados, debemos sumar el costo del terreno, el costo de los paneles solares y el costo de mantenimiento.\n",
      "\n",
      "1. Costo del terreno: $100 x pies cuadrados\n",
      "2. Costo de los paneles solares: $250 x pies cuadrados\n",
      "3. Costo de mantenimiento: $100,000 + $10 x pies cuadrados\n",
      "\n",
      "Por lo tanto, el costo total del primer año de operaciones en función del número de pies cuadrados es:\n",
      "\n",
      "Costo total = Costo del terreno + Costo de los paneles solares + Costo de mantenimiento\n",
      "Costo total = $100 x + $250 x + $100,000 + $10 x\n",
      "Costo total = $360 x + $100,000\n",
      "\n",
      "¿La solución del estudiante es la misma que la solución recién calculada?\n",
      "No\n",
      "\n",
      "Calificación del estudiante:\n",
      "Incorrecto\n"
     ]
    }
   ],
   "source": [
    "prompt = f\"\"\"\n",
    "Su tarea es determinar si la solución del estudiante \\\n",
    "es correcta o no.\n",
    "Para resolver el problema haga lo siguiente:\n",
    "- Primero, encuentre su propia solución al problema.\n",
    "- Luego compara tu solución con la solución del estudiante \\\n",
    "y evalue si la solución del estudiante es correcta o no.\n",
    "No decida si la solución del estudiante es correcta hasta que\n",
    "usted mismo haya resuelto el problema.\n",
    "\n",
    "Utilice el siguiente formato para la respuesta:\n",
    "Pregunta:\n",
    "```\n",
    "pregunta aquí\n",
    "```\n",
    "La solución del estudiante:\n",
    "```\n",
    "la solución del estudiante aquí\n",
    "```\n",
    "Solución real:\n",
    "```\n",
    "pasos para encontrar la solución y su solución aquí\n",
    "```\n",
    "¿La solución del estudiante es la misma que la solución recién calculada?:\n",
    "```\n",
    "sí o no\n",
    "```\n",
    "Calificación del estudiante:\n",
    "```\n",
    "correcto o incorrecto\n",
    "```\n",
    "\n",
    "Pregunta:\n",
    "```\n",
    "Estoy construyendo una instalación de energía solar y necesito ayuda \\\n",
    "resolver las finanzas.\n",
    "- El terreno cuesta $100 / pie cuadrado\n",
    "- Puedo comprar paneles solares por $250 / pie cuadrado\n",
    "- Negocié un contrato de mantenimiento que costará \\\n",
    "100.000 dólares fijos al año y 10 dólares adicionales por pie cuadrado \\\n",
    "¿Cuál es el costo total del primer año de operaciones\n",
    "en función del número de pies cuadrados?\n",
    "```\n",
    "La solución del estudiante:\n",
    "```\n",
    "Sea x el tamaño de la instalación en pies cuadrados.\n",
    "Costos:\n",
    "1. Costo del terreno: 100x\n",
    "2. Costo del panel solar: 250x\n",
    "3. Costo de mantenimiento: 100.000 + 100x\n",
    "Costo total: 100x + 250x + 100,000 + 100x = 450x + 100,000\n",
    "```\n",
    "Solución real:\n",
    "\"\"\"\n",
    "respuesta = get_completion(prompt)\n",
    "print(respuesta)"
   ]
  },
  {
   "cell_type": "markdown",
   "metadata": {},
   "source": [
    "## Limitaciones del modelo: Alucinaciones\n",
    "- Boie es una compañia real, pero el nombre del producto no es real."
   ]
  },
  {
   "cell_type": "code",
   "execution_count": 18,
   "metadata": {},
   "outputs": [
    {
     "name": "stdout",
     "output_type": "stream",
     "text": [
      "El cepillo AeroGlide UltraSlim Smart de Boie es un cepillo de dientes innovador y de alta tecnología que ofrece una experiencia de cepillado superior. Diseñado con cerdas de polímero suave y flexibles, este cepillo es suave con las encías y los dientes, pero al mismo tiempo efectivo para eliminar la placa y las manchas.\n",
      "\n",
      "Una de las características más destacadas de este cepillo es su diseño ultra delgado, lo que lo hace perfecto para llegar a todas las áreas de la boca, incluyendo los espacios interdentales de difícil acceso. Además, su mango ergonómico y antideslizante proporciona un agarre cómodo y seguro durante el cepillado.\n",
      "\n",
      "El cepillo AeroGlide UltraSlim Smart también cuenta con tecnología inteligente. Viene con un temporizador de 2 minutos que te ayuda a asegurarte de cepillarte durante el tiempo recomendado por los dentistas. Además, tiene un sensor de presión que te alerta si estás aplicando demasiada fuerza al cepillar, lo que puede dañar las encías y el esmalte dental.\n",
      "\n",
      "Otra ventaja de este cepillo es su durabilidad. A diferencia de los cepillos de dientes convencionales, las cerdas de polímero de Boie son resistentes a la acumulación de bacterias y no se desgastan fácilmente, lo que significa que el cepillo puede durar hasta 6 meses.\n",
      "\n",
      "Además de todas estas características, el cepillo AeroGlide UltraSlim Smart de Boie es respetuoso con el medio ambiente. Está hecho de materiales reciclables y no contiene BPA ni ftalatos, lo que lo convierte en una opción sostenible y segura para el cuidado bucal.\n",
      "\n",
      "En resumen, el cepillo AeroGlide UltraSlim Smart de Boie es una opción excelente para aquellos que buscan un cepillo de dientes de alta calidad, duradero y respetuoso con el medio ambiente. Con su diseño delgado, tecnología inteligente y cerdas suaves, ofrece una experiencia de cepillado superior para mantener una buena salud bucal.\n"
     ]
    }
   ],
   "source": [
    "prompt = f\"\"\"\n",
    "Cuentame sobre el cepillo AeroGlide UltraSlim Smart de Boie\n",
    "\"\"\"\n",
    "response = get_completion(prompt)\n",
    "print(response)"
   ]
  }
 ],
 "metadata": {
  "kernelspec": {
   "display_name": "Python 3",
   "language": "python",
   "name": "python3"
  },
  "language_info": {
   "codemirror_mode": {
    "name": "ipython",
    "version": 3
   },
   "file_extension": ".py",
   "mimetype": "text/x-python",
   "name": "python",
   "nbconvert_exporter": "python",
   "pygments_lexer": "ipython3",
   "version": "3.10.12"
  },
  "orig_nbformat": 4
 },
 "nbformat": 4,
 "nbformat_minor": 2
}
